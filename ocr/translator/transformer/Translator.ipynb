{
  "nbformat": 4,
  "nbformat_minor": 0,
  "metadata": {
    "colab": {
      "name": "Translator.ipynb",
      "provenance": []
    },
    "kernelspec": {
      "name": "python3",
      "display_name": "Python 3"
    },
    "language_info": {
      "name": "python"
    },
    "accelerator": "GPU",
    "gpuClass": "standard"
  },
  "cells": [
    {
      "cell_type": "code",
      "execution_count": 1,
      "metadata": {
        "id": "KzZ_ELCR5bs8"
      },
      "outputs": [],
      "source": [
        "import pathlib\n",
        "import random\n",
        "import string\n",
        "import re\n",
        "import numpy as np\n",
        "import tensorflow as tf\n",
        "from tensorflow import keras\n",
        "from tensorflow.keras import layers\n",
        "from tensorflow.keras.layers import TextVectorization"
      ]
    },
    {
      "cell_type": "code",
      "source": [
        "text_file = keras.utils.get_file(\n",
        "    fname=\"spa-eng.zip\",\n",
        "    origin=\"http://storage.googleapis.com/download.tensorflow.org/data/spa-eng.zip\",\n",
        "    extract=True,\n",
        ")\n",
        "text_file = pathlib.Path(text_file).parent / \"spa-eng\" / \"spa.txt\"\n"
      ],
      "metadata": {
        "colab": {
          "base_uri": "https://localhost:8080/"
        },
        "id": "FVjKTEJQClOY",
        "outputId": "eb354d92-4330-4145-a46e-38b0c5328e27"
      },
      "execution_count": 2,
      "outputs": [
        {
          "output_type": "stream",
          "name": "stdout",
          "text": [
            "Downloading data from http://storage.googleapis.com/download.tensorflow.org/data/spa-eng.zip\n",
            "2646016/2638744 [==============================] - 0s 0us/step\n",
            "2654208/2638744 [==============================] - 0s 0us/step\n"
          ]
        }
      ]
    },
    {
      "cell_type": "code",
      "source": [
        "with open(text_file) as f:\n",
        "    lines = f.read().split(\"\\n\")[:-1]\n",
        "text_pairs = []\n",
        "for line in lines:\n",
        "    eng, spa = line.split(\"\\t\")\n",
        "    spa = \"[start] \" + spa + \" [end]\"\n",
        "    text_pairs.append((eng, spa))"
      ],
      "metadata": {
        "id": "s80rUCVJCnWv"
      },
      "execution_count": 3,
      "outputs": []
    },
    {
      "cell_type": "code",
      "source": [
        "for _ in range(5):\n",
        "    print(random.choice(text_pairs))"
      ],
      "metadata": {
        "colab": {
          "base_uri": "https://localhost:8080/"
        },
        "id": "LwOUvUieCofK",
        "outputId": "d95c073e-e2a1-42af-a44f-d7fe0a2341b7"
      },
      "execution_count": 4,
      "outputs": [
        {
          "output_type": "stream",
          "name": "stdout",
          "text": [
            "('I saw that on the news.', '[start] Vi eso en las noticias. [end]')\n",
            "('Tom needs to know the truth.', '[start] Tomás necesita saber la verdad. [end]')\n",
            "('We have been to Tokyo many times.', '[start] Visitamos Tokio varias veces. [end]')\n",
            "('Do you know Tom well?', '[start] ¿Conoces bien a Tom? [end]')\n",
            "('Tom phoned.', '[start] Tomás telefoneó. [end]')\n"
          ]
        }
      ]
    },
    {
      "cell_type": "code",
      "source": [
        "random.shuffle(text_pairs)\n",
        "num_val_samples = int(0.15 * len(text_pairs))\n",
        "num_train_samples = len(text_pairs) - 2 * num_val_samples\n",
        "train_pairs = text_pairs[:num_train_samples]\n",
        "val_pairs = text_pairs[num_train_samples : num_train_samples + num_val_samples]\n",
        "test_pairs = text_pairs[num_train_samples + num_val_samples :]\n",
        "\n",
        "print(f\"{len(text_pairs)} total pairs\")\n",
        "print(f\"{len(train_pairs)} training pairs\")\n",
        "print(f\"{len(val_pairs)} validation pairs\")\n",
        "print(f\"{len(test_pairs)} test pairs\")"
      ],
      "metadata": {
        "colab": {
          "base_uri": "https://localhost:8080/"
        },
        "id": "POJgpLLbCsh0",
        "outputId": "8af2a6b5-90a0-49d2-c575-99de1391c045"
      },
      "execution_count": 5,
      "outputs": [
        {
          "output_type": "stream",
          "name": "stdout",
          "text": [
            "118964 total pairs\n",
            "83276 training pairs\n",
            "17844 validation pairs\n",
            "17844 test pairs\n"
          ]
        }
      ]
    },
    {
      "cell_type": "code",
      "source": [
        "strip_chars = string.punctuation + \"¿\"\n",
        "strip_chars = strip_chars.replace(\"[\", \"\")\n",
        "strip_chars = strip_chars.replace(\"]\", \"\")\n",
        "\n",
        "vocab_size = 15000\n",
        "sequence_length = 20\n",
        "batch_size = 64\n",
        "\n",
        "\n",
        "def custom_standardization(input_string):\n",
        "    lowercase = tf.strings.lower(input_string)\n",
        "    return tf.strings.regex_replace(lowercase, \"[%s]\" % re.escape(strip_chars), \"\")\n",
        "\n",
        "\n",
        "eng_vectorization = TextVectorization(\n",
        "    max_tokens=vocab_size,\n",
        "    output_mode=\"int\",\n",
        "    output_sequence_length=sequence_length,\n",
        ")\n",
        "spa_vectorization = TextVectorization(\n",
        "    max_tokens=vocab_size,\n",
        "    output_mode=\"int\",\n",
        "    output_sequence_length=sequence_length + 1,\n",
        "    standardize=custom_standardization,\n",
        ")\n",
        "train_eng_texts = [pair[0] for pair in train_pairs]\n",
        "train_spa_texts = [pair[1] for pair in train_pairs]\n",
        "eng_vectorization.adapt(train_eng_texts)\n",
        "spa_vectorization.adapt(train_spa_texts)"
      ],
      "metadata": {
        "id": "xG5vFWXdCt9-"
      },
      "execution_count": 6,
      "outputs": []
    },
    {
      "cell_type": "code",
      "source": [
        "def format_dataset(eng, spa):\n",
        "    eng = eng_vectorization(eng)\n",
        "    spa = spa_vectorization(spa)\n",
        "    return (\n",
        "        {\n",
        "            \"encoder_inputs\": eng,\n",
        "            \"decoder_inputs\": spa[:, :-1],\n",
        "        },\n",
        "        spa[:, 1:],\n",
        "    )\n",
        "\n",
        "\n",
        "def make_dataset(pairs):\n",
        "    eng_texts, spa_texts = zip(*pairs)\n",
        "    eng_texts = list(eng_texts)\n",
        "    spa_texts = list(spa_texts)\n",
        "    dataset = tf.data.Dataset.from_tensor_slices((eng_texts, spa_texts))\n",
        "    dataset = dataset.batch(batch_size)\n",
        "    dataset = dataset.map(format_dataset)\n",
        "    return dataset.shuffle(2048).prefetch(16).cache()\n",
        "\n",
        "\n",
        "train_ds = make_dataset(train_pairs)\n",
        "val_ds = make_dataset(val_pairs)"
      ],
      "metadata": {
        "id": "xRvnaxOVC00R"
      },
      "execution_count": 7,
      "outputs": []
    },
    {
      "cell_type": "code",
      "source": [
        "for inputs, targets in train_ds.take(1):\n",
        "    print(f'inputs[\"encoder_inputs\"].shape: {inputs[\"encoder_inputs\"].shape}')\n",
        "    print(f'inputs[\"decoder_inputs\"].shape: {inputs[\"decoder_inputs\"].shape}')\n",
        "    print(f\"targets.shape: {targets.shape}\")"
      ],
      "metadata": {
        "colab": {
          "base_uri": "https://localhost:8080/"
        },
        "id": "Lgz0Iz-lC5On",
        "outputId": "57ce4526-eae7-48a4-841f-3bdf67296efb"
      },
      "execution_count": 8,
      "outputs": [
        {
          "output_type": "stream",
          "name": "stdout",
          "text": [
            "inputs[\"encoder_inputs\"].shape: (64, 20)\n",
            "inputs[\"decoder_inputs\"].shape: (64, 20)\n",
            "targets.shape: (64, 20)\n"
          ]
        }
      ]
    },
    {
      "cell_type": "code",
      "source": [
        "class TransformerEncoder(layers.Layer):\n",
        "    def __init__(self, embed_dim, dense_dim, num_heads, **kwargs):\n",
        "        super(TransformerEncoder, self).__init__(**kwargs)\n",
        "        self.embed_dim = embed_dim\n",
        "        self.dense_dim = dense_dim\n",
        "        self.num_heads = num_heads\n",
        "        self.attention = layers.MultiHeadAttention(\n",
        "            num_heads=num_heads, key_dim=embed_dim\n",
        "        )\n",
        "        self.dense_proj = keras.Sequential(\n",
        "            [\n",
        "                layers.Dense(dense_dim, activation=\"relu\"),\n",
        "                layers.Dense(embed_dim),\n",
        "            ]\n",
        "        )\n",
        "        self.layernorm_1 = layers.LayerNormalization()\n",
        "        self.layernorm_2 = layers.LayerNormalization()\n",
        "        self.supports_masking = True\n",
        "\n",
        "    def call(self, inputs, mask=None):\n",
        "        if mask is not None:\n",
        "            padding_mask = tf.cast(mask[:, tf.newaxis, tf.newaxis, :], dtype=\"int32\")\n",
        "        attention_output = self.attention(\n",
        "            query=inputs, value=inputs, key=inputs, attention_mask=padding_mask\n",
        "        )\n",
        "        proj_input = self.layernorm_1(inputs + attention_output)\n",
        "        proj_output = self.dense_proj(proj_input)\n",
        "        return self.layernorm_2(proj_input + proj_output)\n",
        "\n",
        "\n",
        "class PositionalEmbedding(layers.Layer):\n",
        "    def __init__(self, sequence_length, vocab_size, embed_dim, **kwargs):\n",
        "        super(PositionalEmbedding, self).__init__(**kwargs)\n",
        "        self.token_embeddings = layers.Embedding(\n",
        "            input_dim=vocab_size, output_dim=embed_dim\n",
        "        )\n",
        "        self.position_embeddings = layers.Embedding(\n",
        "            input_dim=sequence_length, output_dim=embed_dim\n",
        "        )\n",
        "        self.sequence_length = sequence_length\n",
        "        self.vocab_size = vocab_size\n",
        "        self.embed_dim = embed_dim\n",
        "\n",
        "    def call(self, inputs):\n",
        "        length = tf.shape(inputs)[-1]\n",
        "        positions = tf.range(start=0, limit=length, delta=1)\n",
        "        embedded_tokens = self.token_embeddings(inputs)\n",
        "        embedded_positions = self.position_embeddings(positions)\n",
        "        return embedded_tokens + embedded_positions\n",
        "\n",
        "    def compute_mask(self, inputs, mask=None):\n",
        "        return tf.math.not_equal(inputs, 0)\n",
        "\n",
        "\n",
        "class TransformerDecoder(layers.Layer):\n",
        "    def __init__(self, embed_dim, latent_dim, num_heads, **kwargs):\n",
        "        super(TransformerDecoder, self).__init__(**kwargs)\n",
        "        self.embed_dim = embed_dim\n",
        "        self.latent_dim = latent_dim\n",
        "        self.num_heads = num_heads\n",
        "        self.attention_1 = layers.MultiHeadAttention(\n",
        "            num_heads=num_heads, key_dim=embed_dim\n",
        "        )\n",
        "        self.attention_2 = layers.MultiHeadAttention(\n",
        "            num_heads=num_heads, key_dim=embed_dim\n",
        "        )\n",
        "        self.dense_proj = keras.Sequential(\n",
        "            [\n",
        "                layers.Dense(latent_dim, activation=\"relu\"),\n",
        "                layers.Dense(embed_dim),\n",
        "            ]\n",
        "        )\n",
        "        self.layernorm_1 = layers.LayerNormalization()\n",
        "        self.layernorm_2 = layers.LayerNormalization()\n",
        "        self.layernorm_3 = layers.LayerNormalization()\n",
        "        self.supports_masking = True\n",
        "\n",
        "    def call(self, inputs, encoder_outputs, mask=None):\n",
        "        causal_mask = self.get_causal_attention_mask(inputs)\n",
        "        if mask is not None:\n",
        "            padding_mask = tf.cast(mask[:, tf.newaxis, :], dtype=\"int32\")\n",
        "            padding_mask = tf.minimum(padding_mask, causal_mask)\n",
        "\n",
        "        attention_output_1 = self.attention_1(\n",
        "            query=inputs, value=inputs, key=inputs, attention_mask=causal_mask\n",
        "        )\n",
        "        out_1 = self.layernorm_1(inputs + attention_output_1)\n",
        "\n",
        "        attention_output_2 = self.attention_2(\n",
        "            query=out_1,\n",
        "            value=encoder_outputs,\n",
        "            key=encoder_outputs,\n",
        "            attention_mask=padding_mask,\n",
        "        )\n",
        "        out_2 = self.layernorm_2(out_1 + attention_output_2)\n",
        "\n",
        "        proj_output = self.dense_proj(out_2)\n",
        "        return self.layernorm_3(out_2 + proj_output)\n",
        "\n",
        "    def get_causal_attention_mask(self, inputs):\n",
        "        input_shape = tf.shape(inputs)\n",
        "        batch_size, sequence_length = input_shape[0], input_shape[1]\n",
        "        i = tf.range(sequence_length)[:, tf.newaxis]\n",
        "        j = tf.range(sequence_length)\n",
        "        mask = tf.cast(i >= j, dtype=\"int32\")\n",
        "        mask = tf.reshape(mask, (1, input_shape[1], input_shape[1]))\n",
        "        mult = tf.concat(\n",
        "            [tf.expand_dims(batch_size, -1), tf.constant([1, 1], dtype=tf.int32)],\n",
        "            axis=0,\n",
        "        )\n",
        "        return tf.tile(mask, mult)"
      ],
      "metadata": {
        "id": "s1mpoYreC923"
      },
      "execution_count": 9,
      "outputs": []
    },
    {
      "cell_type": "code",
      "source": [
        "embed_dim = 256\n",
        "latent_dim = 2048\n",
        "num_heads = 8\n",
        "\n",
        "encoder_inputs = keras.Input(shape=(None,), dtype=\"int64\", name=\"encoder_inputs\")\n",
        "x = PositionalEmbedding(sequence_length, vocab_size, embed_dim)(encoder_inputs)\n",
        "encoder_outputs = TransformerEncoder(embed_dim, latent_dim, num_heads)(x)\n",
        "encoder = keras.Model(encoder_inputs, encoder_outputs)\n",
        "\n",
        "decoder_inputs = keras.Input(shape=(None,), dtype=\"int64\", name=\"decoder_inputs\")\n",
        "encoded_seq_inputs = keras.Input(shape=(None, embed_dim), name=\"decoder_state_inputs\")\n",
        "x = PositionalEmbedding(sequence_length, vocab_size, embed_dim)(decoder_inputs)\n",
        "x = TransformerDecoder(embed_dim, latent_dim, num_heads)(x, encoded_seq_inputs)\n",
        "x = layers.Dropout(0.5)(x)\n",
        "decoder_outputs = layers.Dense(vocab_size, activation=\"softmax\")(x)\n",
        "decoder = keras.Model([decoder_inputs, encoded_seq_inputs], decoder_outputs)\n",
        "\n",
        "decoder_outputs = decoder([decoder_inputs, encoder_outputs])\n",
        "transformer = keras.Model(\n",
        "    [encoder_inputs, decoder_inputs], decoder_outputs, name=\"transformer\"\n",
        ")"
      ],
      "metadata": {
        "id": "ZkIRs37UDA2n"
      },
      "execution_count": 10,
      "outputs": []
    },
    {
      "cell_type": "code",
      "source": [
        "epochs = 40  # This should be at least 30 for convergence\n",
        "\n",
        "transformer.summary()\n",
        "transformer.compile(\n",
        "    \"rmsprop\", loss=\"sparse_categorical_crossentropy\", metrics=[\"accuracy\"]\n",
        ")\n",
        "transformer.fit(train_ds, epochs=epochs, validation_data=val_ds)"
      ],
      "metadata": {
        "colab": {
          "base_uri": "https://localhost:8080/"
        },
        "id": "IbR0xbfpDEW5",
        "outputId": "58f58f97-e093-415a-daa6-cab4c289fbf8"
      },
      "execution_count": 11,
      "outputs": [
        {
          "output_type": "stream",
          "name": "stdout",
          "text": [
            "Model: \"transformer\"\n",
            "__________________________________________________________________________________________________\n",
            " Layer (type)                   Output Shape         Param #     Connected to                     \n",
            "==================================================================================================\n",
            " encoder_inputs (InputLayer)    [(None, None)]       0           []                               \n",
            "                                                                                                  \n",
            " positional_embedding (Position  (None, None, 256)   3845120     ['encoder_inputs[0][0]']         \n",
            " alEmbedding)                                                                                     \n",
            "                                                                                                  \n",
            " decoder_inputs (InputLayer)    [(None, None)]       0           []                               \n",
            "                                                                                                  \n",
            " transformer_encoder (Transform  (None, None, 256)   3155456     ['positional_embedding[0][0]']   \n",
            " erEncoder)                                                                                       \n",
            "                                                                                                  \n",
            " model_1 (Functional)           (None, None, 15000)  12959640    ['decoder_inputs[0][0]',         \n",
            "                                                                  'transformer_encoder[0][0]']    \n",
            "                                                                                                  \n",
            "==================================================================================================\n",
            "Total params: 19,960,216\n",
            "Trainable params: 19,960,216\n",
            "Non-trainable params: 0\n",
            "__________________________________________________________________________________________________\n",
            "Epoch 1/40\n",
            "1302/1302 [==============================] - 97s 68ms/step - loss: 1.6972 - accuracy: 0.4102 - val_loss: 1.3497 - val_accuracy: 0.4981\n",
            "Epoch 2/40\n",
            "1302/1302 [==============================] - 88s 68ms/step - loss: 1.3623 - accuracy: 0.5237 - val_loss: 1.1890 - val_accuracy: 0.5608\n",
            "Epoch 3/40\n",
            "1302/1302 [==============================] - 89s 68ms/step - loss: 1.2077 - accuracy: 0.5739 - val_loss: 1.1113 - val_accuracy: 0.5928\n",
            "Epoch 4/40\n",
            "1302/1302 [==============================] - 88s 68ms/step - loss: 1.1144 - accuracy: 0.6071 - val_loss: 1.0616 - val_accuracy: 0.6171\n",
            "Epoch 5/40\n",
            "1302/1302 [==============================] - 89s 68ms/step - loss: 1.0625 - accuracy: 0.6302 - val_loss: 1.0420 - val_accuracy: 0.6277\n",
            "Epoch 6/40\n",
            "1302/1302 [==============================] - 90s 69ms/step - loss: 1.0285 - accuracy: 0.6476 - val_loss: 1.0310 - val_accuracy: 0.6345\n",
            "Epoch 7/40\n",
            "1302/1302 [==============================] - 90s 69ms/step - loss: 1.0036 - accuracy: 0.6613 - val_loss: 1.0165 - val_accuracy: 0.6406\n",
            "Epoch 8/40\n",
            "1302/1302 [==============================] - 90s 69ms/step - loss: 0.9829 - accuracy: 0.6730 - val_loss: 1.0179 - val_accuracy: 0.6436\n",
            "Epoch 9/40\n",
            "1302/1302 [==============================] - 90s 69ms/step - loss: 0.9664 - accuracy: 0.6827 - val_loss: 1.0077 - val_accuracy: 0.6487\n",
            "Epoch 10/40\n",
            "1302/1302 [==============================] - 90s 69ms/step - loss: 0.9510 - accuracy: 0.6904 - val_loss: 1.0107 - val_accuracy: 0.6528\n",
            "Epoch 11/40\n",
            "1302/1302 [==============================] - 90s 69ms/step - loss: 0.9368 - accuracy: 0.6974 - val_loss: 1.0158 - val_accuracy: 0.6524\n",
            "Epoch 12/40\n",
            "1302/1302 [==============================] - 90s 69ms/step - loss: 0.9229 - accuracy: 0.7039 - val_loss: 1.0130 - val_accuracy: 0.6550\n",
            "Epoch 13/40\n",
            "1302/1302 [==============================] - 90s 69ms/step - loss: 0.9104 - accuracy: 0.7097 - val_loss: 1.0167 - val_accuracy: 0.6575\n",
            "Epoch 14/40\n",
            "1302/1302 [==============================] - 90s 69ms/step - loss: 0.8979 - accuracy: 0.7151 - val_loss: 1.0130 - val_accuracy: 0.6584\n",
            "Epoch 15/40\n",
            "1302/1302 [==============================] - 90s 69ms/step - loss: 0.8868 - accuracy: 0.7199 - val_loss: 1.0197 - val_accuracy: 0.6583\n",
            "Epoch 16/40\n",
            "1302/1302 [==============================] - 90s 69ms/step - loss: 0.8752 - accuracy: 0.7246 - val_loss: 1.0246 - val_accuracy: 0.6590\n",
            "Epoch 17/40\n",
            "1302/1302 [==============================] - 90s 69ms/step - loss: 0.8649 - accuracy: 0.7291 - val_loss: 1.0288 - val_accuracy: 0.6583\n",
            "Epoch 18/40\n",
            "1302/1302 [==============================] - 90s 69ms/step - loss: 0.8545 - accuracy: 0.7332 - val_loss: 1.0330 - val_accuracy: 0.6596\n",
            "Epoch 19/40\n",
            "1302/1302 [==============================] - 90s 69ms/step - loss: 0.8444 - accuracy: 0.7372 - val_loss: 1.0333 - val_accuracy: 0.6583\n",
            "Epoch 20/40\n",
            "1302/1302 [==============================] - 90s 69ms/step - loss: 0.8352 - accuracy: 0.7405 - val_loss: 1.0449 - val_accuracy: 0.6594\n",
            "Epoch 21/40\n",
            "1302/1302 [==============================] - 90s 69ms/step - loss: 0.8252 - accuracy: 0.7443 - val_loss: 1.0574 - val_accuracy: 0.6535\n",
            "Epoch 22/40\n",
            "1302/1302 [==============================] - 90s 69ms/step - loss: 0.8160 - accuracy: 0.7478 - val_loss: 1.0520 - val_accuracy: 0.6574\n",
            "Epoch 23/40\n",
            "1302/1302 [==============================] - 90s 69ms/step - loss: 0.8079 - accuracy: 0.7507 - val_loss: 1.0518 - val_accuracy: 0.6592\n",
            "Epoch 24/40\n",
            "1302/1302 [==============================] - 90s 69ms/step - loss: 0.7998 - accuracy: 0.7542 - val_loss: 1.0651 - val_accuracy: 0.6533\n",
            "Epoch 25/40\n",
            "1302/1302 [==============================] - 90s 69ms/step - loss: 0.7921 - accuracy: 0.7572 - val_loss: 1.0643 - val_accuracy: 0.6561\n",
            "Epoch 26/40\n",
            "1302/1302 [==============================] - 90s 69ms/step - loss: 0.7839 - accuracy: 0.7602 - val_loss: 1.0752 - val_accuracy: 0.6571\n",
            "Epoch 27/40\n",
            "1302/1302 [==============================] - 90s 69ms/step - loss: 0.7779 - accuracy: 0.7621 - val_loss: 1.0741 - val_accuracy: 0.6595\n",
            "Epoch 28/40\n",
            "1302/1302 [==============================] - 91s 70ms/step - loss: 0.7706 - accuracy: 0.7649 - val_loss: 1.0703 - val_accuracy: 0.6585\n",
            "Epoch 29/40\n",
            "1302/1302 [==============================] - 90s 69ms/step - loss: 0.7639 - accuracy: 0.7672 - val_loss: 1.0807 - val_accuracy: 0.6556\n",
            "Epoch 30/40\n",
            "1302/1302 [==============================] - 90s 69ms/step - loss: 0.7568 - accuracy: 0.7698 - val_loss: 1.0851 - val_accuracy: 0.6599\n",
            "Epoch 31/40\n",
            "1302/1302 [==============================] - 90s 69ms/step - loss: 0.7511 - accuracy: 0.7716 - val_loss: 1.0889 - val_accuracy: 0.6598\n",
            "Epoch 32/40\n",
            "1302/1302 [==============================] - 90s 69ms/step - loss: 0.7444 - accuracy: 0.7742 - val_loss: 1.0947 - val_accuracy: 0.6582\n",
            "Epoch 33/40\n",
            "1302/1302 [==============================] - 90s 69ms/step - loss: 0.7387 - accuracy: 0.7759 - val_loss: 1.1009 - val_accuracy: 0.6604\n",
            "Epoch 34/40\n",
            "1302/1302 [==============================] - 90s 69ms/step - loss: 0.7335 - accuracy: 0.7782 - val_loss: 1.1046 - val_accuracy: 0.6597\n",
            "Epoch 35/40\n",
            "1302/1302 [==============================] - 90s 69ms/step - loss: 0.7282 - accuracy: 0.7798 - val_loss: 1.1106 - val_accuracy: 0.6591\n",
            "Epoch 36/40\n",
            "1302/1302 [==============================] - 90s 69ms/step - loss: 0.7228 - accuracy: 0.7820 - val_loss: 1.1267 - val_accuracy: 0.6551\n",
            "Epoch 37/40\n",
            "1302/1302 [==============================] - 90s 69ms/step - loss: 0.7172 - accuracy: 0.7838 - val_loss: 1.1237 - val_accuracy: 0.6549\n",
            "Epoch 38/40\n",
            "1302/1302 [==============================] - 90s 69ms/step - loss: 0.7117 - accuracy: 0.7850 - val_loss: 1.1141 - val_accuracy: 0.6590\n",
            "Epoch 39/40\n",
            "1302/1302 [==============================] - 90s 69ms/step - loss: 0.7082 - accuracy: 0.7872 - val_loss: 1.1270 - val_accuracy: 0.6565\n",
            "Epoch 40/40\n",
            "1302/1302 [==============================] - 90s 69ms/step - loss: 0.7038 - accuracy: 0.7886 - val_loss: 1.1373 - val_accuracy: 0.6576\n"
          ]
        },
        {
          "output_type": "execute_result",
          "data": {
            "text/plain": [
              "<keras.callbacks.History at 0x7f584032ba10>"
            ]
          },
          "metadata": {},
          "execution_count": 11
        }
      ]
    },
    {
      "cell_type": "code",
      "source": [
        "spa_vocab = spa_vectorization.get_vocabulary()\n",
        "spa_index_lookup = dict(zip(range(len(spa_vocab)), spa_vocab))\n",
        "max_decoded_sentence_length = 20\n",
        "\n",
        "\n",
        "def decode_sequence(input_sentence):\n",
        "    tokenized_input_sentence = eng_vectorization([input_sentence])\n",
        "    decoded_sentence = \"[start]\"\n",
        "    for i in range(max_decoded_sentence_length):\n",
        "        tokenized_target_sentence = spa_vectorization([decoded_sentence])[:, :-1]\n",
        "        predictions = transformer([tokenized_input_sentence, tokenized_target_sentence])\n",
        "\n",
        "        sampled_token_index = np.argmax(predictions[0, i, :])\n",
        "        sampled_token = spa_index_lookup[sampled_token_index]\n",
        "        decoded_sentence += \" \" + sampled_token\n",
        "\n",
        "        if sampled_token == \"[end]\":\n",
        "            break\n",
        "    return decoded_sentence\n",
        "\n",
        "\n",
        "test_eng_texts = [pair[0] for pair in test_pairs]\n",
        "for _ in range(30):\n",
        "    input_sentence = random.choice(test_eng_texts)\n",
        "    translated = decode_sequence(input_sentence)\n",
        "    print(translated)"
      ],
      "metadata": {
        "colab": {
          "base_uri": "https://localhost:8080/"
        },
        "id": "PPeH4XAPWw02",
        "outputId": "f1ea72c3-eeb4-456f-b681-bed395f733ee"
      },
      "execution_count": 20,
      "outputs": [
        {
          "output_type": "stream",
          "name": "stdout",
          "text": [
            "[start] Él puso la luz y se fue a dormir [end]\n",
            "[start] tengo un [UNK] para ti [end]\n",
            "[start] yo no he tenido tiempo [end]\n",
            "[start] tiene buen te dan bien [end]\n",
            "[start] creo que deberíamos [UNK] este plan [end]\n",
            "[start] mary me pidió que [UNK] a su novio [end]\n",
            "[start] cuando se va estés haciendo esto verdad [end]\n",
            "[start] ellos [UNK] a sus padres ayer [end]\n",
            "[start] sabemos lo que queremos [end]\n",
            "[start] estoy seguro de que tom no querría que te [UNK] frío [end]\n",
            "[start] no puedes esperar nada de lo que él haga [end]\n",
            "[start] no quiero ser grosero [end]\n",
            "[start] he tenido todo el día libre [end]\n",
            "[start] ella cantó para ella [UNK] [end]\n",
            "[start] es imposible de llover mañana [end]\n",
            "[start] qué fue tom [end]\n",
            "[start] solo tengo dos hijos [end]\n",
            "[start] no puedo oír de manera se va a abrir la ventana [end]\n",
            "[start] me [UNK] cuándo se [UNK] [end]\n",
            "[start] yo encanta el francés [end]\n",
            "[start] acabo de dar una carta de mi niña [end]\n",
            "[start] hay muchas [UNK] en junio [end]\n",
            "[start] ayer de la lluvia [end]\n",
            "[start] esta caja es demasiado fuerte para que yo [UNK] [end]\n",
            "[start] ella me habló con una sonrisa [end]\n",
            "[start] tom todavía tiene mucho que aprender [end]\n",
            "[start] tengo un [UNK] [end]\n",
            "[start] supongo que ustedes no pueden hacerlo [end]\n",
            "[start] tom [UNK] por todo [end]\n",
            "[start] puedo ayudarte si sea un fuerte vestido [end]\n"
          ]
        }
      ]
    },
    {
      "cell_type": "code",
      "source": [
        "transformer.save(\"transformer\")"
      ],
      "metadata": {
        "colab": {
          "base_uri": "https://localhost:8080/"
        },
        "id": "on4PpWFDXAFQ",
        "outputId": "c61e98fb-5d8d-49d0-e8d5-c650e05afeac"
      },
      "execution_count": 14,
      "outputs": [
        {
          "output_type": "stream",
          "name": "stderr",
          "text": [
            "WARNING:absl:Found untraced functions such as embedding_layer_call_fn, embedding_layer_call_and_return_conditional_losses, embedding_1_layer_call_fn, embedding_1_layer_call_and_return_conditional_losses, multi_head_attention_layer_call_fn while saving (showing 5 of 60). These functions will not be directly callable after loading.\n",
            "/usr/local/lib/python3.7/dist-packages/keras/engine/functional.py:1410: CustomMaskWarning: Custom mask layers require a config and must override get_config. When loading, the custom mask layer must be passed to the custom_objects argument.\n",
            "  layer_config = serialize_layer_fn(layer)\n",
            "/usr/local/lib/python3.7/dist-packages/keras/saving/saved_model/layer_serialization.py:112: CustomMaskWarning: Custom mask layers require a config and must override get_config. When loading, the custom mask layer must be passed to the custom_objects argument.\n",
            "  return generic_utils.serialize_keras_object(obj)\n"
          ]
        }
      ]
    },
    {
      "cell_type": "code",
      "source": [
        "transformer_loaded = keras.Model(\n",
        "    [encoder_inputs, decoder_inputs], decoder_outputs, name=\"transformer_loaded\"\n",
        ")"
      ],
      "metadata": {
        "id": "FLEg8dc4YSIL"
      },
      "execution_count": 17,
      "outputs": []
    },
    {
      "cell_type": "code",
      "source": [
        "transformer_loaded.load_weights(\"./transformer\")"
      ],
      "metadata": {
        "colab": {
          "base_uri": "https://localhost:8080/"
        },
        "id": "fd74CGeoYnTF",
        "outputId": "a39b5a7c-a37e-4430-f33e-58260e1342f4"
      },
      "execution_count": 18,
      "outputs": [
        {
          "output_type": "execute_result",
          "data": {
            "text/plain": [
              "<tensorflow.python.training.tracking.util.CheckpointLoadStatus at 0x7f577b5fbc50>"
            ]
          },
          "metadata": {},
          "execution_count": 18
        }
      ]
    },
    {
      "cell_type": "code",
      "source": [
        "!zip -r transformer.zip ./transformer"
      ],
      "metadata": {
        "colab": {
          "base_uri": "https://localhost:8080/"
        },
        "id": "AWTYj5m3Xcu9",
        "outputId": "7128fa2e-9f8b-4b6d-df70-96ec2941c5d3"
      },
      "execution_count": 15,
      "outputs": [
        {
          "output_type": "stream",
          "name": "stdout",
          "text": [
            "  adding: transformer/ (stored 0%)\n",
            "  adding: transformer/keras_metadata.pb (deflated 93%)\n",
            "  adding: transformer/assets/ (stored 0%)\n",
            "  adding: transformer/saved_model.pb (deflated 91%)\n",
            "  adding: transformer/variables/ (stored 0%)\n",
            "  adding: transformer/variables/variables.data-00000-of-00001 (deflated 14%)\n",
            "  adding: transformer/variables/variables.index (deflated 77%)\n"
          ]
        }
      ]
    }
  ]
}